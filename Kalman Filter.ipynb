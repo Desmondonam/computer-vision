{
 "cells": [
  {
   "cell_type": "code",
   "execution_count": 5,
   "id": "2be4ec42",
   "metadata": {},
   "outputs": [
    {
     "name": "stderr",
     "output_type": "stream",
     "text": [
      "ERROR: Could not find a version that satisfies the requirement book_format (from versions: none)\n",
      "ERROR: No matching distribution found for book_format\n",
      "WARNING: You are using pip version 22.0.3; however, version 22.0.4 is available.\n",
      "You should consider upgrading via the 'c:\\users\\desmond\\anaconda3\\python.exe -m pip install --upgrade pip' command.\n"
     ]
    }
   ],
   "source": [
    "!pip install book_format\n"
   ]
  },
  {
   "cell_type": "code",
   "execution_count": 1,
   "id": "d2602af9",
   "metadata": {},
   "outputs": [
    {
     "ename": "ModuleNotFoundError",
     "evalue": "No module named 'book_format'",
     "output_type": "error",
     "traceback": [
      "\u001b[1;31m---------------------------------------------------------------------------\u001b[0m",
      "\u001b[1;31mModuleNotFoundError\u001b[0m                       Traceback (most recent call last)",
      "\u001b[1;32m<ipython-input-1-658a5278e3f0>\u001b[0m in \u001b[0;36m<module>\u001b[1;34m\u001b[0m\n\u001b[0;32m      4\u001b[0m \u001b[0mget_ipython\u001b[0m\u001b[1;33m(\u001b[0m\u001b[1;33m)\u001b[0m\u001b[1;33m.\u001b[0m\u001b[0mrun_line_magic\u001b[0m\u001b[1;33m(\u001b[0m\u001b[1;34m'autoreload'\u001b[0m\u001b[1;33m,\u001b[0m \u001b[1;34m'2'\u001b[0m\u001b[1;33m)\u001b[0m\u001b[1;33m\u001b[0m\u001b[1;33m\u001b[0m\u001b[0m\n\u001b[0;32m      5\u001b[0m \u001b[1;32mfrom\u001b[0m \u001b[0m__future__\u001b[0m \u001b[1;32mimport\u001b[0m \u001b[0mdivision\u001b[0m\u001b[1;33m,\u001b[0m \u001b[0mprint_function\u001b[0m\u001b[1;33m\u001b[0m\u001b[1;33m\u001b[0m\u001b[0m\n\u001b[1;32m----> 6\u001b[1;33m \u001b[1;32mfrom\u001b[0m \u001b[0mbook_format\u001b[0m \u001b[1;32mimport\u001b[0m \u001b[0mload_style\u001b[0m\u001b[1;33m,\u001b[0m \u001b[0mfigsize\u001b[0m\u001b[1;33m\u001b[0m\u001b[1;33m\u001b[0m\u001b[0m\n\u001b[0m\u001b[0;32m      7\u001b[0m \u001b[0mload_style\u001b[0m\u001b[1;33m(\u001b[0m\u001b[1;33m)\u001b[0m\u001b[1;33m\u001b[0m\u001b[1;33m\u001b[0m\u001b[0m\n",
      "\u001b[1;31mModuleNotFoundError\u001b[0m: No module named 'book_format'"
     ]
    }
   ],
   "source": [
    "\n",
    "#format the book\n",
    "%matplotlib inline\n",
    "%load_ext autoreload\n",
    "%autoreload 2\n",
    "from __future__ import division, print_function\n",
    "from book_format import load_style, figsize\n",
    "load_style()"
   ]
  },
  {
   "cell_type": "code",
   "execution_count": 2,
   "id": "25e4215a",
   "metadata": {},
   "outputs": [],
   "source": [
    "from numpy.random import randn\n",
    "import copy\n",
    "class PosSensor1(object):\n",
    "    def __init__(self, pos=(0, 0), vel=(0, 0), noise_std=1.):\n",
    "        self.vel = vel\n",
    "        self.noise_std = noise_std\n",
    "        self.pos = [pos[0], pos[1]]\n",
    "        \n",
    "    def read(self):\n",
    "        self.pos[0] += self.vel[0]\n",
    "        self.pos[1] += self.vel[1]\n",
    "        \n",
    "        return [self.pos[0] + randn() * self.noise_std,\n",
    "                self.pos[1] + randn() * self.noise_std]"
   ]
  },
  {
   "cell_type": "code",
   "execution_count": 3,
   "id": "607e7bb8",
   "metadata": {},
   "outputs": [
    {
     "ename": "ModuleNotFoundError",
     "evalue": "No module named 'book_plots'",
     "output_type": "error",
     "traceback": [
      "\u001b[1;31m---------------------------------------------------------------------------\u001b[0m",
      "\u001b[1;31mModuleNotFoundError\u001b[0m                       Traceback (most recent call last)",
      "\u001b[1;32m<ipython-input-3-d103608cdf83>\u001b[0m in \u001b[0;36m<module>\u001b[1;34m\u001b[0m\n\u001b[0;32m      1\u001b[0m \u001b[1;32mimport\u001b[0m \u001b[0mmatplotlib\u001b[0m\u001b[1;33m.\u001b[0m\u001b[0mpyplot\u001b[0m \u001b[1;32mas\u001b[0m \u001b[0mplt\u001b[0m\u001b[1;33m\u001b[0m\u001b[1;33m\u001b[0m\u001b[0m\n\u001b[0;32m      2\u001b[0m \u001b[1;32mimport\u001b[0m \u001b[0mnumpy\u001b[0m \u001b[1;32mas\u001b[0m \u001b[0mnp\u001b[0m\u001b[1;33m\u001b[0m\u001b[1;33m\u001b[0m\u001b[0m\n\u001b[1;32m----> 3\u001b[1;33m \u001b[1;32mimport\u001b[0m \u001b[0mbook_plots\u001b[0m \u001b[1;32mas\u001b[0m \u001b[0mbp\u001b[0m\u001b[1;33m\u001b[0m\u001b[1;33m\u001b[0m\u001b[0m\n\u001b[0m\u001b[0;32m      4\u001b[0m \u001b[1;33m\u001b[0m\u001b[0m\n\u001b[0;32m      5\u001b[0m \u001b[0mpos\u001b[0m\u001b[1;33m,\u001b[0m \u001b[0mvel\u001b[0m \u001b[1;33m=\u001b[0m \u001b[1;33m(\u001b[0m\u001b[1;36m4\u001b[0m\u001b[1;33m,\u001b[0m \u001b[1;36m3\u001b[0m\u001b[1;33m)\u001b[0m\u001b[1;33m,\u001b[0m \u001b[1;33m(\u001b[0m\u001b[1;36m2\u001b[0m\u001b[1;33m,\u001b[0m \u001b[1;36m1\u001b[0m\u001b[1;33m)\u001b[0m\u001b[1;33m\u001b[0m\u001b[1;33m\u001b[0m\u001b[0m\n",
      "\u001b[1;31mModuleNotFoundError\u001b[0m: No module named 'book_plots'"
     ]
    }
   ],
   "source": [
    "\n",
    "import matplotlib.pyplot as plt\n",
    "import numpy as np\n",
    "import book_plots as bp\n",
    "\n",
    "pos, vel = (4, 3), (2, 1)\n",
    "sensor = PosSensor1(pos, vel, noise_std=1)\n",
    "ps = np.array([sensor.read() for _ in range(50)])\n",
    "bp.plot_measurements(ps[:, 0], ps[:, 1]);"
   ]
  },
  {
   "cell_type": "code",
   "execution_count": 4,
   "id": "68925e9b",
   "metadata": {},
   "outputs": [
    {
     "ename": "ModuleNotFoundError",
     "evalue": "No module named 'filterpy'",
     "output_type": "error",
     "traceback": [
      "\u001b[1;31m---------------------------------------------------------------------------\u001b[0m",
      "\u001b[1;31mModuleNotFoundError\u001b[0m                       Traceback (most recent call last)",
      "\u001b[1;32m<ipython-input-4-bfbfffd0d970>\u001b[0m in \u001b[0;36m<module>\u001b[1;34m\u001b[0m\n\u001b[1;32m----> 1\u001b[1;33m \u001b[1;32mfrom\u001b[0m \u001b[0mfilterpy\u001b[0m\u001b[1;33m.\u001b[0m\u001b[0mkalman\u001b[0m \u001b[1;32mimport\u001b[0m \u001b[0mKalmanFilter\u001b[0m\u001b[1;33m\u001b[0m\u001b[1;33m\u001b[0m\u001b[0m\n\u001b[0m\u001b[0;32m      2\u001b[0m \u001b[0mtracker\u001b[0m \u001b[1;33m=\u001b[0m \u001b[0mKalmanFilter\u001b[0m\u001b[1;33m(\u001b[0m\u001b[0mdim_x\u001b[0m\u001b[1;33m=\u001b[0m\u001b[1;36m4\u001b[0m\u001b[1;33m,\u001b[0m \u001b[0mdim_z\u001b[0m\u001b[1;33m=\u001b[0m\u001b[1;36m2\u001b[0m\u001b[1;33m)\u001b[0m\u001b[1;33m\u001b[0m\u001b[1;33m\u001b[0m\u001b[0m\n\u001b[0;32m      3\u001b[0m \u001b[0mdt\u001b[0m \u001b[1;33m=\u001b[0m \u001b[1;36m1.\u001b[0m   \u001b[1;31m# time step 1 second\u001b[0m\u001b[1;33m\u001b[0m\u001b[1;33m\u001b[0m\u001b[0m\n\u001b[0;32m      4\u001b[0m \u001b[1;33m\u001b[0m\u001b[0m\n\u001b[0;32m      5\u001b[0m tracker.F = np.array([[1, dt, 0,  0],\n",
      "\u001b[1;31mModuleNotFoundError\u001b[0m: No module named 'filterpy'"
     ]
    }
   ],
   "source": [
    "\n",
    "from filterpy.kalman import KalmanFilter\n",
    "tracker = KalmanFilter(dim_x=4, dim_z=2)\n",
    "dt = 1.   # time step 1 second\n",
    "\n",
    "tracker.F = np.array([[1, dt, 0,  0],\n",
    "                      [0,  1, 0,  0],\n",
    "                      [0,  0, 1, dt],\n",
    "                      [0,  0, 0,  1]])"
   ]
  },
  {
   "cell_type": "code",
   "execution_count": 6,
   "id": "e2467e65",
   "metadata": {},
   "outputs": [
    {
     "ename": "ModuleNotFoundError",
     "evalue": "No module named 'filterpy'",
     "output_type": "error",
     "traceback": [
      "\u001b[1;31m---------------------------------------------------------------------------\u001b[0m",
      "\u001b[1;31mModuleNotFoundError\u001b[0m                       Traceback (most recent call last)",
      "\u001b[1;32m<ipython-input-6-b7b657901646>\u001b[0m in \u001b[0;36m<module>\u001b[1;34m\u001b[0m\n\u001b[0;32m      1\u001b[0m \u001b[1;32mfrom\u001b[0m \u001b[0mscipy\u001b[0m\u001b[1;33m.\u001b[0m\u001b[0mlinalg\u001b[0m \u001b[1;32mimport\u001b[0m \u001b[0mblock_diag\u001b[0m\u001b[1;33m\u001b[0m\u001b[1;33m\u001b[0m\u001b[0m\n\u001b[1;32m----> 2\u001b[1;33m \u001b[1;32mfrom\u001b[0m \u001b[0mfilterpy\u001b[0m\u001b[1;33m.\u001b[0m\u001b[0mcommon\u001b[0m \u001b[1;32mimport\u001b[0m \u001b[0mQ_discrete_white_noise\u001b[0m\u001b[1;33m\u001b[0m\u001b[1;33m\u001b[0m\u001b[0m\n\u001b[0m\u001b[0;32m      3\u001b[0m \u001b[1;33m\u001b[0m\u001b[0m\n\u001b[0;32m      4\u001b[0m \u001b[0mq\u001b[0m \u001b[1;33m=\u001b[0m \u001b[0mQ_discrete_white_noise\u001b[0m\u001b[1;33m(\u001b[0m\u001b[0mdim\u001b[0m\u001b[1;33m=\u001b[0m\u001b[1;36m2\u001b[0m\u001b[1;33m,\u001b[0m \u001b[0mdt\u001b[0m\u001b[1;33m=\u001b[0m\u001b[0mdt\u001b[0m\u001b[1;33m,\u001b[0m \u001b[0mvar\u001b[0m\u001b[1;33m=\u001b[0m\u001b[1;36m0.05\u001b[0m\u001b[1;33m)\u001b[0m\u001b[1;33m\u001b[0m\u001b[1;33m\u001b[0m\u001b[0m\n\u001b[0;32m      5\u001b[0m \u001b[0mtracker\u001b[0m\u001b[1;33m.\u001b[0m\u001b[0mQ\u001b[0m \u001b[1;33m=\u001b[0m \u001b[0mblock_diag\u001b[0m\u001b[1;33m(\u001b[0m\u001b[0mq\u001b[0m\u001b[1;33m,\u001b[0m \u001b[0mq\u001b[0m\u001b[1;33m)\u001b[0m\u001b[1;33m\u001b[0m\u001b[1;33m\u001b[0m\u001b[0m\n",
      "\u001b[1;31mModuleNotFoundError\u001b[0m: No module named 'filterpy'"
     ]
    }
   ],
   "source": [
    "from scipy.linalg import block_diag\n",
    "from filterpy.common import Q_discrete_white_noise\n",
    "\n",
    "q = Q_discrete_white_noise(dim=2, dt=dt, var=0.05)\n",
    "tracker.Q = block_diag(q, q)\n",
    "print(tracker.Q)"
   ]
  },
  {
   "cell_type": "code",
   "execution_count": 7,
   "id": "6957fa19",
   "metadata": {},
   "outputs": [
    {
     "ename": "NameError",
     "evalue": "name 'KalmanFilter' is not defined",
     "output_type": "error",
     "traceback": [
      "\u001b[1;31m---------------------------------------------------------------------------\u001b[0m",
      "\u001b[1;31mNameError\u001b[0m                                 Traceback (most recent call last)",
      "\u001b[1;32m<ipython-input-7-eeb3d945095b>\u001b[0m in \u001b[0;36m<module>\u001b[1;34m\u001b[0m\n\u001b[0;32m     24\u001b[0m \u001b[1;33m\u001b[0m\u001b[0m\n\u001b[0;32m     25\u001b[0m \u001b[1;31m# run filter\u001b[0m\u001b[1;33m\u001b[0m\u001b[1;33m\u001b[0m\u001b[1;33m\u001b[0m\u001b[0m\n\u001b[1;32m---> 26\u001b[1;33m \u001b[0mrobot_tracker\u001b[0m \u001b[1;33m=\u001b[0m \u001b[0mtracker1\u001b[0m\u001b[1;33m(\u001b[0m\u001b[1;33m)\u001b[0m\u001b[1;33m\u001b[0m\u001b[1;33m\u001b[0m\u001b[0m\n\u001b[0m\u001b[0;32m     27\u001b[0m \u001b[0mmu\u001b[0m\u001b[1;33m,\u001b[0m \u001b[0mcov\u001b[0m\u001b[1;33m,\u001b[0m \u001b[0m_\u001b[0m\u001b[1;33m,\u001b[0m \u001b[0m_\u001b[0m \u001b[1;33m=\u001b[0m \u001b[0mtracker\u001b[0m\u001b[1;33m.\u001b[0m\u001b[0mbatch_filter\u001b[0m\u001b[1;33m(\u001b[0m\u001b[0mzs\u001b[0m\u001b[1;33m)\u001b[0m\u001b[1;33m\u001b[0m\u001b[1;33m\u001b[0m\u001b[0m\n\u001b[0;32m     28\u001b[0m \u001b[1;33m\u001b[0m\u001b[0m\n",
      "\u001b[1;32m<ipython-input-7-eeb3d945095b>\u001b[0m in \u001b[0;36mtracker1\u001b[1;34m()\u001b[0m\n\u001b[0;32m      1\u001b[0m \u001b[1;32mdef\u001b[0m \u001b[0mtracker1\u001b[0m\u001b[1;33m(\u001b[0m\u001b[1;33m)\u001b[0m\u001b[1;33m:\u001b[0m\u001b[1;33m\u001b[0m\u001b[1;33m\u001b[0m\u001b[0m\n\u001b[1;32m----> 2\u001b[1;33m     \u001b[0mtracker\u001b[0m \u001b[1;33m=\u001b[0m \u001b[0mKalmanFilter\u001b[0m\u001b[1;33m(\u001b[0m\u001b[0mdim_x\u001b[0m\u001b[1;33m=\u001b[0m\u001b[1;36m4\u001b[0m\u001b[1;33m,\u001b[0m \u001b[0mdim_z\u001b[0m\u001b[1;33m=\u001b[0m\u001b[1;36m2\u001b[0m\u001b[1;33m)\u001b[0m\u001b[1;33m\u001b[0m\u001b[1;33m\u001b[0m\u001b[0m\n\u001b[0m\u001b[0;32m      3\u001b[0m     \u001b[0mdt\u001b[0m \u001b[1;33m=\u001b[0m \u001b[1;36m1.0\u001b[0m   \u001b[1;31m# time step\u001b[0m\u001b[1;33m\u001b[0m\u001b[1;33m\u001b[0m\u001b[0m\n\u001b[0;32m      4\u001b[0m \u001b[1;33m\u001b[0m\u001b[0m\n\u001b[0;32m      5\u001b[0m     tracker.F = np.array([[1, dt, 0,  0],\n",
      "\u001b[1;31mNameError\u001b[0m: name 'KalmanFilter' is not defined"
     ]
    }
   ],
   "source": [
    "def tracker1():\n",
    "    tracker = KalmanFilter(dim_x=4, dim_z=2)\n",
    "    dt = 1.0   # time step\n",
    "\n",
    "    tracker.F = np.array([[1, dt, 0,  0],\n",
    "                          [0,  1, 0,  0],\n",
    "                          [0,  0, 1, dt],\n",
    "                          [0,  0, 0,  1]])\n",
    "    tracker.u = 0.\n",
    "    tracker.H = np.array([[1/0.3048, 0, 0, 0],\n",
    "                          [0, 0, 1/0.3048, 0]])\n",
    "\n",
    "    tracker.R = np.eye(2) * 5\n",
    "    q = Q_discrete_white_noise(dim=2, dt=dt, var=0.05)\n",
    "    tracker.Q = block_diag(q, q)\n",
    "    tracker.x = np.array([[0, 0, 0, 0]]).T\n",
    "    tracker.P = np.eye(4) * 500.\n",
    "    return tracker\n",
    "\n",
    "# simulate robot movement\n",
    "N = 30\n",
    "sensor = PosSensor1 ([0, 0], (2, 1), 1.)\n",
    "zs = np.array([np.array([sensor.read()]).T for _ in range(N)])\n",
    "\n",
    "# run filter\n",
    "robot_tracker = tracker1()\n",
    "mu, cov, _, _ = tracker.batch_filter(zs)\n",
    "\n",
    "# plot results\n",
    "zs *= .3048 # convert to meters\n",
    "bp.plot_filter(mu[:, 0], mu[:, 2])\n",
    "bp.plot_measurements(zs[:, 0], zs[:, 1])\n",
    "plt.legend(loc=2)\n",
    "plt.gca().set_aspect('equal')\n",
    "plt.xlim((0, 20));\n"
   ]
  },
  {
   "cell_type": "code",
   "execution_count": null,
   "id": "194d0282",
   "metadata": {},
   "outputs": [],
   "source": []
  }
 ],
 "metadata": {
  "kernelspec": {
   "display_name": "Python 3",
   "language": "python",
   "name": "python3"
  },
  "language_info": {
   "codemirror_mode": {
    "name": "ipython",
    "version": 3
   },
   "file_extension": ".py",
   "mimetype": "text/x-python",
   "name": "python",
   "nbconvert_exporter": "python",
   "pygments_lexer": "ipython3",
   "version": "3.8.8"
  }
 },
 "nbformat": 4,
 "nbformat_minor": 5
}
