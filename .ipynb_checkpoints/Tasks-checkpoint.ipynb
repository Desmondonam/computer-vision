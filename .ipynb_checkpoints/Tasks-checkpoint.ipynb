{
 "cells": [
  {
   "cell_type": "markdown",
   "id": "3571828b",
   "metadata": {},
   "source": [
    "### Upload the images that we are to use in this project"
   ]
  },
  {
   "cell_type": "code",
   "execution_count": 2,
   "id": "7bffe4db",
   "metadata": {},
   "outputs": [],
   "source": [
    "import pandas as pd\n",
    "import numpy as np"
   ]
  },
  {
   "cell_type": "code",
   "execution_count": 3,
   "id": "5f9d59f9",
   "metadata": {},
   "outputs": [
    {
     "data": {
      "text/html": [
       "<div>\n",
       "<style scoped>\n",
       "    .dataframe tbody tr th:only-of-type {\n",
       "        vertical-align: middle;\n",
       "    }\n",
       "\n",
       "    .dataframe tbody tr th {\n",
       "        vertical-align: top;\n",
       "    }\n",
       "\n",
       "    .dataframe thead th {\n",
       "        text-align: right;\n",
       "    }\n",
       "</style>\n",
       "<table border=\"1\" class=\"dataframe\">\n",
       "  <thead>\n",
       "    <tr style=\"text-align: right;\">\n",
       "      <th></th>\n",
       "      <th>-3.474</th>\n",
       "      <th>0.43248</th>\n",
       "      <th>0.79939</th>\n",
       "      <th>2.2378</th>\n",
       "      <th>1.6581</th>\n",
       "      <th>2.376</th>\n",
       "      <th>2.9777</th>\n",
       "      <th>3.549</th>\n",
       "      <th>4.1321</th>\n",
       "      <th>4.1511</th>\n",
       "      <th>...</th>\n",
       "      <th>129.67</th>\n",
       "      <th>127.47</th>\n",
       "      <th>128.97</th>\n",
       "      <th>129.8</th>\n",
       "      <th>131.45</th>\n",
       "      <th>132.16</th>\n",
       "      <th>134.32</th>\n",
       "      <th>134.11</th>\n",
       "      <th>134.92</th>\n",
       "      <th>135.63</th>\n",
       "    </tr>\n",
       "  </thead>\n",
       "  <tbody>\n",
       "  </tbody>\n",
       "</table>\n",
       "<p>0 rows × 100 columns</p>\n",
       "</div>"
      ],
      "text/plain": [
       "Empty DataFrame\n",
       "Columns: [-3.474, 0.43248, 0.79939, 2.2378, 1.6581, 2.376, 2.9777, 3.549, 4.1321, 4.1511, 16.496, 8.0714, 8.1199, 10.869, 11.557, 12.645, 14.298, 14.982, 15.258, 16.228, 20.3, 19.518, 20.405, 21.357, 23.983, 24.654, 25.926, 25.359, 27.367, 29.486, 26.499, 30.336, 33.206, 34.592, 36.679, 36.354, 39.407, 40.086, 41.6, 42.122, 42.968, 44.193, 47.389, 48.211, 50.542, 53.036, 53.827, 56.434, 57.822, 60.152, 58.646, 63.04, 64.426, 67.402, 68.34, 69.721, 71.624, 72.592, 74.399, 76.349, 83.051, 80.499, 81.452, 83.283, 85.455, 86.826, 88.678, 89.696, 91.642, 93.383, 88.85, 96.971, 99.499, 99.878, 101.91, 104.02, 105.89, 107.08, 108.87, 111.32, 112.42, 114.01, 114.8, 117.62, 118.19, 119.83, 122.86, 124.34, 125.01, 125.15, 129.67, 127.47, 128.97, 129.8, 131.45, 132.16, 134.32, 134.11, 134.92, 135.63]\n",
       "Index: []\n",
       "\n",
       "[0 rows x 100 columns]"
      ]
     },
     "execution_count": 3,
     "metadata": {},
     "output_type": "execute_result"
    }
   ],
   "source": [
    "a = pd.read_csv('D:/Work1/Computer Vision/a.csv')\n",
    "a.head(5)"
   ]
  },
  {
   "cell_type": "code",
   "execution_count": 4,
   "id": "29f79e4d",
   "metadata": {},
   "outputs": [
    {
     "data": {
      "text/html": [
       "<div>\n",
       "<style scoped>\n",
       "    .dataframe tbody tr th:only-of-type {\n",
       "        vertical-align: middle;\n",
       "    }\n",
       "\n",
       "    .dataframe tbody tr th {\n",
       "        vertical-align: top;\n",
       "    }\n",
       "\n",
       "    .dataframe thead th {\n",
       "        text-align: right;\n",
       "    }\n",
       "</style>\n",
       "<table border=\"1\" class=\"dataframe\">\n",
       "  <thead>\n",
       "    <tr style=\"text-align: right;\">\n",
       "      <th></th>\n",
       "      <th>-2.4717</th>\n",
       "      <th>1.1478</th>\n",
       "      <th>2.9759</th>\n",
       "      <th>3.8222</th>\n",
       "      <th>3.6006</th>\n",
       "      <th>6.381</th>\n",
       "      <th>5.7867</th>\n",
       "      <th>7.5803</th>\n",
       "      <th>6.6713</th>\n",
       "      <th>10.436</th>\n",
       "      <th>...</th>\n",
       "      <th>47.557</th>\n",
       "      <th>47.986</th>\n",
       "      <th>47.591</th>\n",
       "      <th>48.348</th>\n",
       "      <th>48.992</th>\n",
       "      <th>49.898</th>\n",
       "      <th>51.372</th>\n",
       "      <th>51.909</th>\n",
       "      <th>51.057</th>\n",
       "      <th>52.464</th>\n",
       "    </tr>\n",
       "  </thead>\n",
       "  <tbody>\n",
       "  </tbody>\n",
       "</table>\n",
       "<p>0 rows × 100 columns</p>\n",
       "</div>"
      ],
      "text/plain": [
       "Empty DataFrame\n",
       "Columns: [-2.4717, 1.1478, 2.9759, 3.8222, 3.6006, 6.381, 5.7867, 7.5803, 6.6713, 10.436, 10.506, 10.702, 12.145, 13.743, 14.459, 17.33, 16.452, 18.303, 19.821, 20.963, 18.019, 22.691, 23.848, 25.557, 26.684, 27.835, 27.95, 27.608, 28.285, 28.517, 23.221, 28.904, 30.054, 30.998, 32.325, 32.843, 32.887, 34.099, 35.386, 35.485, 46.884, 36.121, 37.107, 37.102, 38.203, 38.764, 39.082, 39.63, 40.277, 39.973, 37.425, 41.398, 41.804, 42.767, 41.633, 40.481, 40.578, 40.124, 39.684, 41.14, 36.097, 41.754, 42.487, 41.839, 41.378, 41.194, 42.678, 42.746, 43.563, 42.918, 42.454, 44.349, 44.127, 43.421, 44.389, 45.015, 46.276, 45.357, 46.024, 45.991, 43.722, 46.28, 46.024.1, 46.923, 46.017, 46.46, 47.335, 46.308, 47.738, 47.044, 47.557, 47.986, 47.591, 48.348, 48.992, 49.898, 51.372, 51.909, 51.057, 52.464]\n",
       "Index: []\n",
       "\n",
       "[0 rows x 100 columns]"
      ]
     },
     "execution_count": 4,
     "metadata": {},
     "output_type": "execute_result"
    }
   ],
   "source": [
    "b = pd.read_csv('D:/Work1/Computer Vision/b.csv')\n",
    "b.head(5)"
   ]
  },
  {
   "cell_type": "code",
   "execution_count": 5,
   "id": "3c933ec5",
   "metadata": {},
   "outputs": [
    {
     "data": {
      "text/html": [
       "<div>\n",
       "<style scoped>\n",
       "    .dataframe tbody tr th:only-of-type {\n",
       "        vertical-align: middle;\n",
       "    }\n",
       "\n",
       "    .dataframe tbody tr th {\n",
       "        vertical-align: top;\n",
       "    }\n",
       "\n",
       "    .dataframe thead th {\n",
       "        text-align: right;\n",
       "    }\n",
       "</style>\n",
       "<table border=\"1\" class=\"dataframe\">\n",
       "  <thead>\n",
       "    <tr style=\"text-align: right;\">\n",
       "      <th></th>\n",
       "      <th>0</th>\n",
       "      <th>0.18007</th>\n",
       "      <th>1.2124</th>\n",
       "      <th>1.5073</th>\n",
       "      <th>1.2189</th>\n",
       "      <th>2.5653</th>\n",
       "      <th>2.9316</th>\n",
       "      <th>3.2386</th>\n",
       "      <th>4.4594</th>\n",
       "      <th>5.0941</th>\n",
       "      <th>...</th>\n",
       "      <th>126.86</th>\n",
       "      <th>127.54</th>\n",
       "      <th>128.94</th>\n",
       "      <th>129.85</th>\n",
       "      <th>131.06</th>\n",
       "      <th>132.15</th>\n",
       "      <th>133.8</th>\n",
       "      <th>133.92</th>\n",
       "      <th>134.79</th>\n",
       "      <th>135.87</th>\n",
       "    </tr>\n",
       "  </thead>\n",
       "  <tbody>\n",
       "  </tbody>\n",
       "</table>\n",
       "<p>0 rows × 100 columns</p>\n",
       "</div>"
      ],
      "text/plain": [
       "Empty DataFrame\n",
       "Columns: [0, 0.18007, 1.2124, 1.5073, 1.2189, 2.5653, 2.9316, 3.2386, 4.4594, 5.0941, 6.2979, 8.0361, 8.7252, 10.187, 11.295, 12.67, 14.014, 14.933, 15.563, 17.085, 18.132, 19.344, 20.897, 21.866, 23.306, 24.313, 25.565, 26.433, 27.643, 28.879, 30.017, 31.358, 32.762, 34.547, 36.153, 37.228, 38.954, 40.3, 41.379, 43.12, 44.087, 45.387, 47.23, 48.208, 50.51, 52.606, 54.028, 56.639, 57.725, 59.455, 61.109, 63.396, 65.148, 66.604, 67.981, 69.512, 70.904, 72.479, 74.741, 76.535, 78.044, 79.517, 81.098, 83.413, 85.458, 86.614, 88.823, 90.469, 92.013, 93.733, 95.189, 97.234, 99.47, 100.36, 102.06, 103.58, 105.64, 106.86, 108.94, 111.07, 112.88, 114.07, 115.94, 117.46, 119.2, 120.2, 122.21, 123.5, 124.23, 125.7, 126.86, 127.54, 128.94, 129.85, 131.06, 132.15, 133.8, 133.92, 134.79, 135.87]\n",
       "Index: []\n",
       "\n",
       "[0 rows x 100 columns]"
      ]
     },
     "execution_count": 5,
     "metadata": {},
     "output_type": "execute_result"
    }
   ],
   "source": [
    "x = pd.read_csv('D:/Work1/Computer Vision/x.csv')\n",
    "x.head(5)"
   ]
  },
  {
   "cell_type": "code",
   "execution_count": 6,
   "id": "d96cf791",
   "metadata": {},
   "outputs": [
    {
     "data": {
      "text/html": [
       "<div>\n",
       "<style scoped>\n",
       "    .dataframe tbody tr th:only-of-type {\n",
       "        vertical-align: middle;\n",
       "    }\n",
       "\n",
       "    .dataframe tbody tr th {\n",
       "        vertical-align: top;\n",
       "    }\n",
       "\n",
       "    .dataframe thead th {\n",
       "        text-align: right;\n",
       "    }\n",
       "</style>\n",
       "<table border=\"1\" class=\"dataframe\">\n",
       "  <thead>\n",
       "    <tr style=\"text-align: right;\">\n",
       "      <th></th>\n",
       "      <th>0</th>\n",
       "      <th>0.70039</th>\n",
       "      <th>2.2956</th>\n",
       "      <th>3.5365</th>\n",
       "      <th>4.3797</th>\n",
       "      <th>5.4558</th>\n",
       "      <th>6.0645</th>\n",
       "      <th>7.2278</th>\n",
       "      <th>8.0916</th>\n",
       "      <th>9.2046</th>\n",
       "      <th>...</th>\n",
       "      <th>47.379</th>\n",
       "      <th>47.644</th>\n",
       "      <th>48.092</th>\n",
       "      <th>48.575</th>\n",
       "      <th>49.166</th>\n",
       "      <th>50.335</th>\n",
       "      <th>51.056</th>\n",
       "      <th>51.421</th>\n",
       "      <th>51.386</th>\n",
       "      <th>52.072</th>\n",
       "    </tr>\n",
       "  </thead>\n",
       "  <tbody>\n",
       "  </tbody>\n",
       "</table>\n",
       "<p>0 rows × 100 columns</p>\n",
       "</div>"
      ],
      "text/plain": [
       "Empty DataFrame\n",
       "Columns: [0, 0.70039, 2.2956, 3.5365, 4.3797, 5.4558, 6.0645, 7.2278, 8.0916, 9.2046, 9.577, 11.054, 12.314, 13.59, 14.989, 16.835, 17.465, 18.317, 19.769, 21.117, 21.976, 22.527, 24.326, 25.229, 26.803, 27.428, 27.592, 27.478, 28.164, 28.639, 28.675, 29.353, 30.125, 31.057, 32.539, 33.049, 33.165, 33.83, 34.658, 34.931, 35.244, 36.055, 36.91, 37.532, 38.283, 38.426, 39.566, 39.645, 39.818, 40.023, 40.685, 41.166, 42.141, 42.029, 41.538, 41.173, 40.97, 40.632, 40.842, 41.196, 41.93, 41.507, 42.253, 41.613, 41.762, 41.747, 42.513, 43.073, 43.501, 43.207, 43.611, 43.817, 44.432, 44.689, 44.583, 44.925, 45.718, 45.519, 46.031, 45.729, 45.295, 45.733, 46.466, 46.649, 46.307, 46.408, 46.683, 46.56, 46.971, 47.065, 47.379, 47.644, 48.092, 48.575, 49.166, 50.335, 51.056, 51.421, 51.386, 52.072]\n",
       "Index: []\n",
       "\n",
       "[0 rows x 100 columns]"
      ]
     },
     "execution_count": 6,
     "metadata": {},
     "output_type": "execute_result"
    }
   ],
   "source": [
    "y = pd.read_csv('D:/Work1/Computer Vision/y.csv')\n",
    "y.head(5)"
   ]
  },
  {
   "cell_type": "code",
   "execution_count": null,
   "id": "6b1bdaed",
   "metadata": {},
   "outputs": [],
   "source": []
  }
 ],
 "metadata": {
  "kernelspec": {
   "display_name": "Python 3",
   "language": "python",
   "name": "python3"
  },
  "language_info": {
   "codemirror_mode": {
    "name": "ipython",
    "version": 3
   },
   "file_extension": ".py",
   "mimetype": "text/x-python",
   "name": "python",
   "nbconvert_exporter": "python",
   "pygments_lexer": "ipython3",
   "version": "3.8.8"
  }
 },
 "nbformat": 4,
 "nbformat_minor": 5
}
